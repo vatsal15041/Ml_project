{
 "cells": [
  {
   "cell_type": "code",
   "execution_count": 16,
   "id": "1babe52e",
   "metadata": {
    "colab": {
     "base_uri": "https://localhost:8080/",
     "height": 380
    },
    "id": "1babe52e",
    "outputId": "1ffb5fb9-2249-49fc-b9df-302babbf9325"
   },
   "outputs": [],
   "source": [
    "import pandas as pd\n",
    "import re\n",
    "import string\n",
    "import seaborn as sns\n",
    "\n",
    "fake = pd.read_csv(\"Fake.csv\")\n",
    "real = pd.read_csv(\"True.csv\")\n",
    "fake[\"label\"] = 0          #for fake news\n",
    "real[\"label\"] = 1          #for real news\n",
    "mat = pd.concat([real, fake])    #merging two datasets\n",
    "mat = mat.sample(frac = 1)     #shuffling the dataset\n",
    "mat.reset_index(inplace = True)    #adding new index\n",
    "sns.countplot(x = 'subject', hue = 'label', data = mat)\n",
    "mat = mat.drop([\"title\", \"subject\", \"date\",\"index\"], axis = 1)    #droping unnecessary tables \n",
    "models = []\n",
    "\n"
   ]
  },
  {
   "cell_type": "code",
   "execution_count": null,
   "id": "9b8f3113",
   "metadata": {
    "colab": {
     "base_uri": "https://localhost:8080/",
     "height": 297
    },
    "id": "9b8f3113",
    "outputId": "1dcc1881-4953-4fe0-8291-3c6c81dbb815",
    "scrolled": true
   },
   "outputs": [
    {
     "data": {
      "text/plain": [
       "<matplotlib.axes._subplots.AxesSubplot at 0x7f87b5b73310>"
      ]
     },
     "execution_count": 92,
     "metadata": {},
     "output_type": "execute_result"
    },
    {
     "data": {
      "image/png": "[encoded data removed]",
      "text/plain": [
       "<Figure size 432x288 with 1 Axes>"
      ]
     },
     "metadata": {},
     "output_type": "display_data"
    }
   ],
   "source": [
    "import seaborn as sns\n",
    "import matplotlib.pyplot as plt\n",
    "\n",
    "sns.countplot(x = 'label', data = mat)"
   ]
  },
  {
   "cell_type": "code",
   "execution_count": 2,
   "id": "b58d85b4",
   "metadata": {
    "id": "b58d85b4"
   },
   "outputs": [],
   "source": [
    "for i in range(len(mat['text'])):      # data preprocessing\n",
    "    mat.at[i, 'text'] = mat.at[i, 'text'].lower()\n",
    "    mat.at[i, 'text'] = re.sub('[^a-zA-Z]',' ', mat.at[i, 'text'])\n",
    "    mat.at[i, 'text'] = mat.at[i, 'text'].split()\n",
    "    mat.at[i, 'text'] = ' '.join(mat.at[i, 'text'])"
   ]
  },
  {
   "cell_type": "code",
   "execution_count": 3,
   "id": "4a317790",
   "metadata": {
    "colab": {
     "base_uri": "https://localhost:8080/",
     "height": 206
    },
    "id": "4a317790",
    "outputId": "9633edb5-bd30-47b6-d866-349749c43434"
   },
   "outputs": [
    {
     "data": {
      "text/html": [
       "<div>\n",
       "<style scoped>\n",
       "    .dataframe tbody tr th:only-of-type {\n",
       "        vertical-align: middle;\n",
       "    }\n",
       "\n",
       "    .dataframe tbody tr th {\n",
       "        vertical-align: top;\n",
       "    }\n",
       "\n",
       "    .dataframe thead th {\n",
       "        text-align: right;\n",
       "    }\n",
       "</style>\n",
       "<table border=\"1\" class=\"dataframe\">\n",
       "  <thead>\n",
       "    <tr style=\"text-align: right;\">\n",
       "      <th></th>\n",
       "      <th>text</th>\n",
       "      <th>label</th>\n",
       "    </tr>\n",
       "  </thead>\n",
       "  <tbody>\n",
       "    <tr>\n",
       "      <th>0</th>\n",
       "      <td>in one of his regular appearances on the imus ...</td>\n",
       "      <td>0</td>\n",
       "    </tr>\n",
       "    <tr>\n",
       "      <th>1</th>\n",
       "      <td>washington reuters president donald trump s so...</td>\n",
       "      <td>1</td>\n",
       "    </tr>\n",
       "    <tr>\n",
       "      <th>2</th>\n",
       "      <td>where s george soros when his top fact checker...</td>\n",
       "      <td>0</td>\n",
       "    </tr>\n",
       "    <tr>\n",
       "      <th>3</th>\n",
       "      <td>reuters u s president donald trump and afghan ...</td>\n",
       "      <td>1</td>\n",
       "    </tr>\n",
       "    <tr>\n",
       "      <th>4</th>\n",
       "      <td>member of the us backed free syrian army alepp...</td>\n",
       "      <td>0</td>\n",
       "    </tr>\n",
       "  </tbody>\n",
       "</table>\n",
       "</div>"
      ],
      "text/plain": [
       "                                                text  label\n",
       "0  in one of his regular appearances on the imus ...      0\n",
       "1  washington reuters president donald trump s so...      1\n",
       "2  where s george soros when his top fact checker...      0\n",
       "3  reuters u s president donald trump and afghan ...      1\n",
       "4  member of the us backed free syrian army alepp...      0"
      ]
     },
     "execution_count": 3,
     "metadata": {},
     "output_type": "execute_result"
    }
   ],
   "source": [
    "mat.head()"
   ]
  },
  {
   "cell_type": "code",
   "execution_count": 5,
   "id": "8f079b50",
   "metadata": {
    "id": "8f079b50"
   },
   "outputs": [],
   "source": [
    "from sklearn.model_selection import train_test_split\n",
    "\n",
    "x = mat['text']\n",
    "y = mat['label']\n",
    "x_train, x_test, y_train, y_test = train_test_split(x, y, test_size = 0.25)"
   ]
  },
  {
   "cell_type": "code",
   "execution_count": null,
   "id": "8fdc88e9",
   "metadata": {
    "id": "8fdc88e9"
   },
   "outputs": [],
   "source": [
    "from sklearn.feature_extraction.text import TfidfVectorizer\n",
    "\n",
    "vectorization = TfidfVectorizer(stop_words = 'english', max_features = 350)\n",
    "xn_train = vectorization.fit_transform(x_train)\n",
    "xn_test = vectorization.fit_transform(x_test)"
   ]
  },
  {
   "cell_type": "code",
   "execution_count": null,
   "id": "18b7df66",
   "metadata": {
    "colab": {
     "base_uri": "https://localhost:8080/"
    },
    "id": "18b7df66",
    "outputId": "034b911a-9553-4da4-df14-1c4bb0b53929"
   },
   "outputs": [
    {
     "name": "stdout",
     "output_type": "stream",
     "text": [
      "(33673, 350)\n",
      "(33673,)\n"
     ]
    }
   ],
   "source": [
    "print(xn_train.shape)\n",
    "print(x_train.shape)"
   ]
  },
  {
   "cell_type": "code",
   "execution_count": null,
   "id": "4d2b8606",
   "metadata": {
    "id": "4d2b8606"
   },
   "outputs": [],
   "source": [
    "from sklearn.naive_bayes import MultinomialNB\n",
    "\n",
    "FakeNews_model = MultinomialNB().fit(xn_train, y_train)"
   ]
  },
  {
   "cell_type": "code",
   "execution_count": null,
   "id": "b1b6cb50",
   "metadata": {
    "colab": {
     "base_uri": "https://localhost:8080/"
    },
    "id": "b1b6cb50",
    "outputId": "e480bfcb-9363-46a8-fa49-49963b1c321b"
   },
   "outputs": [
    {
     "name": "stdout",
     "output_type": "stream",
     "text": [
      "[0 1 0 ... 0 0 0]\n",
      "              precision    recall  f1-score   support\n",
      "\n",
      "           0       0.72      0.87      0.79      5829\n",
      "           1       0.82      0.64      0.72      5396\n",
      "\n",
      "    accuracy                           0.76     11225\n",
      "   macro avg       0.77      0.76      0.75     11225\n",
      "weighted avg       0.77      0.76      0.76     11225\n",
      "\n"
     ]
    }
   ],
   "source": [
    "from sklearn.metrics import classification_report\n",
    "\n",
    "predictions = FakeNews_model.predict(xn_test)\n",
    "models.append(predictions)\n",
    "print(predictions)\n",
    "print(classification_report(y_test, predictions))"
   ]
  },
  {
   "cell_type": "code",
   "execution_count": null,
   "id": "bbe7ea3d",
   "metadata": {
    "id": "bbe7ea3d"
   },
   "outputs": [],
   "source": [
    "from sklearn.feature_extraction.text import TfidfVectorizer\n",
    "\n",
    "vectorization = TfidfVectorizer(stop_words = 'english', max_features = 350)\n",
    "xnLR_train = vectorization.fit_transform(x_train)\n",
    "xnLR_test = vectorization.fit_transform(x_test)"
   ]
  },
  {
   "cell_type": "code",
   "execution_count": null,
   "id": "fc30b127",
   "metadata": {
    "id": "fc30b127"
   },
   "outputs": [],
   "source": [
    "from sklearn.linear_model import LogisticRegression\n",
    "\n",
    "FakeNewsLR_model = LogisticRegression().fit(xnLR_train, y_train)\n"
   ]
  },
  {
   "cell_type": "code",
   "execution_count": null,
   "id": "7c380067",
   "metadata": {
    "colab": {
     "base_uri": "https://localhost:8080/"
    },
    "id": "7c380067",
    "outputId": "ba21b7a9-bfeb-4c70-9605-9037580fb5b9"
   },
   "outputs": [
    {
     "name": "stdout",
     "output_type": "stream",
     "text": [
      "              precision    recall  f1-score   support\n",
      "\n",
      "           0       0.86      0.97      0.91      5829\n",
      "           1       0.96      0.83      0.89      5396\n",
      "\n",
      "    accuracy                           0.90     11225\n",
      "   macro avg       0.91      0.90      0.90     11225\n",
      "weighted avg       0.91      0.90      0.90     11225\n",
      "\n"
     ]
    }
   ],
   "source": [
    "predictions_lr = FakeNewsLR_model.predict(xnLR_test)\n",
    "models.append(predictions_lr)\n",
    "print(classification_report(y_test, predictions_lr))"
   ]
  },
  {
   "cell_type": "code",
   "execution_count": 6,
   "id": "JvEqHsxIwBpw",
   "metadata": {
    "id": "JvEqHsxIwBpw"
   },
   "outputs": [],
   "source": [
    "#random forest\n",
    "from sklearn.feature_extraction.text import TfidfVectorizer\n",
    "\n",
    "vectorization = TfidfVectorizer(stop_words = 'english', max_features = 350)\n",
    "x_Random_train = vectorization.fit_transform(x_train)\n",
    "x_Random_test = vectorization.fit_transform(x_test)"
   ]
  },
  {
   "cell_type": "code",
   "execution_count": 7,
   "id": "XnrkNhI-sF-8",
   "metadata": {
    "colab": {
     "base_uri": "https://localhost:8080/"
    },
    "id": "XnrkNhI-sF-8",
    "outputId": "45d6d2e6-d2f3-4e62-ac7f-1cf7a5daaa2c"
   },
   "outputs": [
    {
     "data": {
      "text/plain": [
       "RandomForestClassifier(max_depth=2, random_state=0)"
      ]
     },
     "execution_count": 7,
     "metadata": {},
     "output_type": "execute_result"
    }
   ],
   "source": [
    "from sklearn.ensemble import RandomForestClassifier\n",
    "model_random= RandomForestClassifier(max_depth=2, random_state=0)\n",
    "model_random.fit(x_Random_train,y_train)"
   ]
  },
  {
   "cell_type": "code",
   "execution_count": 9,
   "id": "hke_ceVf2paU",
   "metadata": {
    "colab": {
     "base_uri": "https://localhost:8080/"
    },
    "id": "hke_ceVf2paU",
    "outputId": "61ce9f2c-b4e6-46fb-a10a-14483462646f"
   },
   "outputs": [
    {
     "name": "stdout",
     "output_type": "stream",
     "text": [
      "              precision    recall  f1-score   support\n",
      "\n",
      "           0       0.63      0.79      0.70      5894\n",
      "           1       0.68      0.49      0.57      5331\n",
      "\n",
      "    accuracy                           0.65     11225\n",
      "   macro avg       0.66      0.64      0.63     11225\n",
      "weighted avg       0.65      0.65      0.64     11225\n",
      "\n"
     ]
    }
   ],
   "source": [
    "from sklearn.metrics import classification_report\n",
    "predict2=model_random.predict(x_Random_test)\n",
    "models.append(predict2)\n",
    "print(classification_report(y_test, predict2))"
   ]
  },
  {
   "cell_type": "code",
   "execution_count": 10,
   "id": "dbaGNKZj7AzH",
   "metadata": {
    "id": "dbaGNKZj7AzH"
   },
   "outputs": [],
   "source": [
    "# Decision Tree Classifier\n",
    "\n",
    "from sklearn.feature_extraction.text import TfidfVectorizer\n",
    "\n",
    "vectorization = TfidfVectorizer(stop_words = 'english', max_features = 350)\n",
    "x_decision_train = vectorization.fit_transform(x_train)\n",
    "x_decision_test = vectorization.fit_transform(x_test)"
   ]
  },
  {
   "cell_type": "code",
   "execution_count": 11,
   "id": "ElZw2opE_fWI",
   "metadata": {
    "colab": {
     "base_uri": "https://localhost:8080/"
    },
    "id": "ElZw2opE_fWI",
    "outputId": "58ebae0f-0a95-489c-c309-022e7deb333b"
   },
   "outputs": [
    {
     "data": {
      "text/plain": [
       "DecisionTreeClassifier()"
      ]
     },
     "execution_count": 11,
     "metadata": {},
     "output_type": "execute_result"
    }
   ],
   "source": [
    "from sklearn import tree\n",
    "model_decision=tree.DecisionTreeClassifier()\n",
    "model_decision.fit(x_decision_train,y_train)"
   ]
  },
  {
   "cell_type": "code",
   "execution_count": 12,
   "id": "ZIJvWpKvALZj",
   "metadata": {
    "colab": {
     "base_uri": "https://localhost:8080/"
    },
    "id": "ZIJvWpKvALZj",
    "outputId": "d1d3d7e0-b680-4549-d814-ab6386c0c4f2"
   },
   "outputs": [
    {
     "name": "stdout",
     "output_type": "stream",
     "text": [
      "              precision    recall  f1-score   support\n",
      "\n",
      "           0       0.50      0.82      0.62      5894\n",
      "           1       0.31      0.09      0.14      5331\n",
      "\n",
      "    accuracy                           0.47     11225\n",
      "   macro avg       0.41      0.46      0.38     11225\n",
      "weighted avg       0.41      0.47      0.39     11225\n",
      "\n"
     ]
    }
   ],
   "source": [
    "predict3=model_decision.predict(x_decision_test)\n",
    "models.append(predict3)\n",
    "print(classification_report(y_test, predict3))"
   ]
  },
  {
   "cell_type": "code",
   "execution_count": 13,
   "id": "4VHn6O6uAV3g",
   "metadata": {
    "id": "4VHn6O6uAV3g"
   },
   "outputs": [],
   "source": [
    "#MLP\n",
    "\n",
    "from sklearn.neural_network import MLPClassifier\n",
    "from sklearn.feature_extraction.text import TfidfVectorizer\n",
    "\n",
    "vectorization = TfidfVectorizer(stop_words = 'english', max_features = 350)\n",
    "x_MLP_train = vectorization.fit_transform(x_train)\n",
    "x_MLP_test = vectorization.fit_transform(x_test)\n"
   ]
  },
  {
   "cell_type": "code",
   "execution_count": 14,
   "id": "d4ad7d23",
   "metadata": {},
   "outputs": [],
   "source": [
    "from sklearn.feature_extraction.text import TfidfVectorizer\n",
    "\n",
    "vectorization = TfidfVectorizer(stop_words = 'english', max_features = 350)\n",
    "x_grid_train = vectorization.fit_transform(x_train)\n",
    "x_grid_test = vectorization.fit_transform(x_test)"
   ]
  },
  {
   "cell_type": "code",
   "execution_count": 15,
   "id": "74aa2c31",
   "metadata": {},
   "outputs": [
    {
     "name": "stdout",
     "output_type": "stream",
     "text": [
      "Best parameters:  {'activation': 'tanh', 'hidden_layer_sizes': (256, 32), 'solver': 'adam'}\n"
     ]
    }
   ],
   "source": [
    "from sklearn.model_selection import GridSearchCV\n",
    "from sklearn import svm, datasets\n",
    "from sklearn.neural_network import MLPClassifier\n",
    "\n",
    "grid=MLPClassifier()\n",
    "model_grid=GridSearchCV(grid,{'activation':['logistic','tanh','relu','identity'],'hidden_layer_sizes': [(100,),(256, 32)], 'solver':['lbfgs', 'sgd', 'adam']},n_jobs=-1,cv=2)\n",
    "model_grid.fit(x_grid_train,y_train)\n",
    "print(\"Best parameters: \", model_grid.best_params_)"
   ]
  },
  {
   "cell_type": "code",
   "execution_count": null,
   "id": "qrRXhKAMCaPZ",
   "metadata": {
    "colab": {
     "base_uri": "https://localhost:8080/"
    },
    "id": "qrRXhKAMCaPZ",
    "outputId": "e2d83ab7-d536-4e3b-9be9-f531635db6ba"
   },
   "outputs": [
    {
     "data": {
      "text/plain": [
       "MLPClassifier(hidden_layer_sizes=(256, 128, 32), max_iter=300, random_state=1)"
      ]
     },
     "execution_count": 113,
     "metadata": {},
     "output_type": "execute_result"
    }
   ],
   "source": [
    "model_mlp = model_mlp = MLPClassifier(hidden_layer_sizes=(100,), activation = 'logistic', solver = 'sgd')\n",
    "model_mlp.fit(x_MLP_train,y_train)"
   ]
  },
  {
   "cell_type": "code",
   "execution_count": null,
   "id": "5n64zUNVDB8B",
   "metadata": {
    "colab": {
     "base_uri": "https://localhost:8080/"
    },
    "id": "5n64zUNVDB8B",
    "outputId": "84e0cfeb-d744-4d0c-8df0-5691d47c878d"
   },
   "outputs": [
    {
     "name": "stdout",
     "output_type": "stream",
     "text": [
      "              precision    recall  f1-score   support\n",
      "\n",
      "           0       0.78      0.98      0.87      5829\n",
      "           1       0.97      0.70      0.81      5396\n",
      "\n",
      "    accuracy                           0.85     11225\n",
      "   macro avg       0.88      0.84      0.84     11225\n",
      "weighted avg       0.87      0.85      0.84     11225\n",
      "\n"
     ]
    }
   ],
   "source": [
    "predict4=model_mlp.predict(x_MLP_test)\n",
    "print(classification_report(y_test, predict4))"
   ]
  },
  {
   "cell_type": "code",
   "execution_count": null,
   "id": "17gDHcIgDgfN",
   "metadata": {
    "colab": {
     "background_save": true
    },
    "id": "17gDHcIgDgfN"
   },
   "outputs": [],
   "source": [
    "# SVM \n",
    "from sklearn.neural_network import MLPClassifier\n",
    "from sklearn.feature_extraction.text import TfidfVectorizer\n",
    "\n",
    "vectorization = TfidfVectorizer(stop_words = 'english', max_features = 350)\n",
    "x_SVM_train = vectorization.fit_transform(x_train)\n",
    "x_SVM_test = vectorization.fit_transform(x_test)\n"
   ]
  },
  {
   "cell_type": "code",
   "execution_count": null,
   "id": "jLYYts-TE008",
   "metadata": {
    "colab": {
     "background_save": true
    },
    "id": "jLYYts-TE008",
    "outputId": "74996848-45bf-4ed9-8aba-870adb23948c"
   },
   "outputs": [
    {
     "data": {
      "text/plain": [
       "SVC(gamma='auto')"
      ]
     },
     "execution_count": 121,
     "metadata": {},
     "output_type": "execute_result"
    }
   ],
   "source": [
    "from sklearn.pipeline import make_pipeline\n",
    "from sklearn.svm import SVC\n",
    "from sklearn.preprocessing import StandardScaler\n",
    "model_SVM = SVC(gamma='auto')\n",
    "model_SVM.fit(x_SVM_train,y_train)\n"
   ]
  },
  {
   "cell_type": "code",
   "execution_count": null,
   "id": "Odq0ISz8U7Er",
   "metadata": {
    "colab": {
     "background_save": true
    },
    "id": "Odq0ISz8U7Er",
    "outputId": "d9d56ac6-22e9-4aa8-c790-fe89e372855f"
   },
   "outputs": [
    {
     "name": "stdout",
     "output_type": "stream",
     "text": [
      "              precision    recall  f1-score   support\n",
      "\n",
      "           0       0.85      0.92      0.89      5829\n",
      "           1       0.91      0.83      0.87      5396\n",
      "\n",
      "    accuracy                           0.88     11225\n",
      "   macro avg       0.88      0.88      0.88     11225\n",
      "weighted avg       0.88      0.88      0.88     11225\n",
      "\n"
     ]
    }
   ],
   "source": [
    "predict5=model_SVM.predict(x_SVM_test)\n",
    "models.append(predict5)\n",
    "print(classification_report(y_test, predict5))"
   ]
  },
  {
   "cell_type": "code",
   "execution_count": null,
   "id": "Gz4xtCwQa9uQ",
   "metadata": {
    "colab": {
     "background_save": true
    },
    "id": "Gz4xtCwQa9uQ"
   },
   "outputs": [],
   "source": [
    "import numpy as np    #ensembling using averaging the predictions of different models\n",
    "models = np.array(models)\n",
    "n = len(models)\n",
    "su = np.sum(models, axis = 0)\n",
    "su = su/n\n",
    "rnd = np.vectorize(round)\n",
    "su = rnd(su)\n",
    "print(classification_report(y_test, su))"
   ]
  },
  {
   "cell_type": "code",
   "execution_count": 17,
   "id": "c4cafe12",
   "metadata": {
    "id": "3J1bZKkTrZye"
   },
   "outputs": [],
   "source": [
    "from sklearn.feature_extraction.text import TfidfVectorizer\n",
    "\n",
    "vectorization = TfidfVectorizer(stop_words = 'english', max_features = 350)\n",
    "x_VC_train = vectorization.fit_transform(x_train)\n",
    "x_VC_test = vectorization.fit_transform(x_test)"
   ]
  },
  {
   "cell_type": "code",
   "execution_count": 18,
   "id": "9ebc1974",
   "metadata": {},
   "outputs": [
    {
     "data": {
      "text/plain": [
       "VotingClassifier(estimators=[('des', DecisionTreeClassifier()),\n",
       "                             ('rf',\n",
       "                              RandomForestClassifier(max_depth=2,\n",
       "                                                     random_state=0)),\n",
       "                             ('lr', LogisticRegression())])"
      ]
     },
     "execution_count": 18,
     "metadata": {},
     "output_type": "execute_result"
    }
   ],
   "source": [
    "from sklearn.naive_bayes import MultinomialNB\n",
    "from sklearn.linear_model import LogisticRegression\n",
    "from sklearn.ensemble import RandomForestClassifier\n",
    "from sklearn import tree\n",
    "from sklearn.neural_network import MLPClassifier\n",
    "from sklearn.pipeline import make_pipeline\n",
    "from sklearn.svm import SVC\n",
    "from sklearn.preprocessing import StandardScaler\n",
    "from sklearn.ensemble import VotingClassifier\n",
    "\n",
    "SVM_model = SVC(gamma='auto')\n",
    "mlp_model = MLPClassifier(hidden_layer_sizes=(256,128,32),random_state=1, max_iter=300)\n",
    "decision_model = tree.DecisionTreeClassifier()\n",
    "random_model= RandomForestClassifier(max_depth=2, random_state=0)\n",
    "LR_model = LogisticRegression()\n",
    "NB_model = MultinomialNB()\n",
    "\n",
    "est = [('des', decision_model), ('rf', random_model), ('lr', LR_model)]\n",
    "ensembled_model = VotingClassifier(estimators = est, voting = 'hard')\n",
    "ensembled_model.fit(x_VC_train, y_train)"
   ]
  },
  {
   "cell_type": "code",
   "execution_count": 19,
   "id": "95a1ac7c",
   "metadata": {},
   "outputs": [
    {
     "name": "stdout",
     "output_type": "stream",
     "text": [
      "              precision    recall  f1-score   support\n",
      "\n",
      "           0       0.56      0.81      0.66      5894\n",
      "           1       0.58      0.29      0.38      5331\n",
      "\n",
      "    accuracy                           0.56     11225\n",
      "   macro avg       0.57      0.55      0.52     11225\n",
      "weighted avg       0.57      0.56      0.53     11225\n",
      "\n"
     ]
    }
   ],
   "source": [
    "from sklearn.metrics import classification_report\n",
    "\n",
    "ensembled_predict=ensembled_model.predict(x_VC_test)\n",
    "print(classification_report(y_test, ensembled_predict))"
   ]
  },
  {
   "cell_type": "code",
   "execution_count": null,
   "id": "5e09b082",
   "metadata": {},
   "outputs": [],
   "source": []
  }
 ],
 "metadata": {
  "colab": {
   "provenance": []
  },
  "kernelspec": {
   "display_name": "Python 3 (ipykernel)",
   "language": "python",
   "name": "python3"
  },
  "language_info": {
   "codemirror_mode": {
    "name": "ipython",
    "version": 3
   },
   "file_extension": ".py",
   "mimetype": "text/x-python",
   "name": "python",
   "nbconvert_exporter": "python",
   "pygments_lexer": "ipython3",
   "version": "3.9.12"
  }
 },
 "nbformat": 4,
 "nbformat_minor": 5
}
